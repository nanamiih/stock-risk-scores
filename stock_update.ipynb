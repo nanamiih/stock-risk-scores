{
 "cells": [
  {
   "cell_type": "code",
   "execution_count": 1,
   "id": "9d60d839-bc67-48c9-9cb4-27d0ed86053f",
   "metadata": {},
   "outputs": [
    {
     "name": "stdout",
     "output_type": "stream",
     "text": [
      "Requirement already satisfied: pandas in c:\\users\\user\\anaconda3\\lib\\site-packages (2.2.3)\n",
      "Requirement already satisfied: requests in c:\\users\\user\\anaconda3\\lib\\site-packages (2.31.0)\n",
      "Requirement already satisfied: lxml in c:\\users\\user\\anaconda3\\lib\\site-packages (4.9.3)\n",
      "Requirement already satisfied: openpyxl in c:\\users\\user\\anaconda3\\lib\\site-packages (3.1.5)\n",
      "Requirement already satisfied: numpy>=1.23.2 in c:\\users\\user\\anaconda3\\lib\\site-packages (from pandas) (1.25.2)\n",
      "Requirement already satisfied: python-dateutil>=2.8.2 in c:\\users\\user\\anaconda3\\lib\\site-packages (from pandas) (2.9.0.post0)\n",
      "Requirement already satisfied: pytz>=2020.1 in c:\\users\\user\\anaconda3\\lib\\site-packages (from pandas) (2025.1)\n",
      "Requirement already satisfied: tzdata>=2022.7 in c:\\users\\user\\anaconda3\\lib\\site-packages (from pandas) (2025.1)\n",
      "Requirement already satisfied: charset-normalizer<4,>=2 in c:\\users\\user\\anaconda3\\lib\\site-packages (from requests) (2.0.4)\n",
      "Requirement already satisfied: idna<4,>=2.5 in c:\\users\\user\\anaconda3\\lib\\site-packages (from requests) (3.4)\n",
      "Requirement already satisfied: urllib3<3,>=1.21.1 in c:\\users\\user\\anaconda3\\lib\\site-packages (from requests) (2.0.7)\n",
      "Requirement already satisfied: certifi>=2017.4.17 in c:\\users\\user\\anaconda3\\lib\\site-packages (from requests) (2024.8.30)\n",
      "Requirement already satisfied: et-xmlfile in c:\\users\\user\\anaconda3\\lib\\site-packages (from openpyxl) (1.1.0)\n",
      "Requirement already satisfied: six>=1.5 in c:\\users\\user\\anaconda3\\lib\\site-packages (from python-dateutil>=2.8.2->pandas) (1.17.0)\n",
      "Note: you may need to restart the kernel to use updated packages.\n"
     ]
    }
   ],
   "source": [
    "%pip install pandas requests lxml openpyxl\n"
   ]
  },
  {
   "cell_type": "code",
   "execution_count": 11,
   "id": "121287c2-2962-4547-8912-f818ce614dd8",
   "metadata": {},
   "outputs": [
    {
     "name": "stdout",
     "output_type": "stream",
     "text": [
      "Collecting html5lib\n",
      "  Downloading html5lib-1.1-py2.py3-none-any.whl.metadata (16 kB)\n",
      "Requirement already satisfied: lxml in c:\\users\\user\\anaconda3\\lib\\site-packages (4.9.3)\n",
      "Requirement already satisfied: beautifulsoup4 in c:\\users\\user\\anaconda3\\lib\\site-packages (4.12.2)\n",
      "Requirement already satisfied: six>=1.9 in c:\\users\\user\\anaconda3\\lib\\site-packages (from html5lib) (1.17.0)\n",
      "Requirement already satisfied: webencodings in c:\\users\\user\\anaconda3\\lib\\site-packages (from html5lib) (0.5.1)\n",
      "Requirement already satisfied: soupsieve>1.2 in c:\\users\\user\\anaconda3\\lib\\site-packages (from beautifulsoup4) (2.5)\n",
      "Downloading html5lib-1.1-py2.py3-none-any.whl (112 kB)\n",
      "   ---------------------------------------- 0.0/112.2 kB ? eta -:--:--\n",
      "   -------------------------------- ------- 92.2/112.2 kB 2.6 MB/s eta 0:00:01\n",
      "   ---------------------------------------- 112.2/112.2 kB 2.2 MB/s eta 0:00:00\n",
      "Installing collected packages: html5lib\n",
      "Successfully installed html5lib-1.1\n",
      "Note: you may need to restart the kernel to use updated packages.\n"
     ]
    }
   ],
   "source": [
    "pip install html5lib lxml beautifulsoup4\n"
   ]
  },
  {
   "cell_type": "code",
   "execution_count": 14,
   "id": "876b4f7e-70a1-4322-bb30-31cfcdd4fff9",
   "metadata": {},
   "outputs": [
    {
     "name": "stdout",
     "output_type": "stream",
     "text": [
      "🔍 抓取 Alcoa (AA) ...\n"
     ]
    },
    {
     "name": "stderr",
     "output_type": "stream",
     "text": [
      "C:\\Users\\user\\AppData\\Local\\Temp\\ipykernel_22916\\3975123913.py:40: FutureWarning: Passing literal html to 'read_html' is deprecated and will be removed in a future version. To read from a literal string, wrap it in a 'StringIO' object.\n",
      "  tables = pd.read_html(str(soup))\n",
      "C:\\Users\\user\\AppData\\Local\\Temp\\ipykernel_22916\\3975123913.py:53: SettingWithCopyWarning: \n",
      "A value is trying to be set on a copy of a slice from a DataFrame.\n",
      "Try using .loc[row_indexer,col_indexer] = value instead\n",
      "\n",
      "See the caveats in the documentation: https://pandas.pydata.org/pandas-docs/stable/user_guide/indexing.html#returning-a-view-versus-a-copy\n",
      "  df[\"Metric\"] = df[\"Metric\"].apply(\n",
      "C:\\Users\\user\\AppData\\Local\\Temp\\ipykernel_22916\\3975123913.py:75: FutureWarning: Passing literal html to 'read_html' is deprecated and will be removed in a future version. To read from a literal string, wrap it in a 'StringIO' object.\n",
      "  tables = pd.read_html(r.text)\n"
     ]
    },
    {
     "name": "stdout",
     "output_type": "stream",
     "text": [
      "✅ Alcoa 完成\n",
      "🔍 抓取 Rio Tinto (RIO) ...\n"
     ]
    },
    {
     "name": "stderr",
     "output_type": "stream",
     "text": [
      "C:\\Users\\user\\AppData\\Local\\Temp\\ipykernel_22916\\3975123913.py:40: FutureWarning: Passing literal html to 'read_html' is deprecated and will be removed in a future version. To read from a literal string, wrap it in a 'StringIO' object.\n",
      "  tables = pd.read_html(str(soup))\n",
      "C:\\Users\\user\\AppData\\Local\\Temp\\ipykernel_22916\\3975123913.py:53: SettingWithCopyWarning: \n",
      "A value is trying to be set on a copy of a slice from a DataFrame.\n",
      "Try using .loc[row_indexer,col_indexer] = value instead\n",
      "\n",
      "See the caveats in the documentation: https://pandas.pydata.org/pandas-docs/stable/user_guide/indexing.html#returning-a-view-versus-a-copy\n",
      "  df[\"Metric\"] = df[\"Metric\"].apply(\n",
      "C:\\Users\\user\\AppData\\Local\\Temp\\ipykernel_22916\\3975123913.py:75: FutureWarning: Passing literal html to 'read_html' is deprecated and will be removed in a future version. To read from a literal string, wrap it in a 'StringIO' object.\n",
      "  tables = pd.read_html(r.text)\n"
     ]
    },
    {
     "name": "stdout",
     "output_type": "stream",
     "text": [
      "✅ Rio Tinto 完成\n",
      "🔍 抓取 Norsk Hydro (NHYDY) ...\n",
      "⚠️ NHYDY: 無法連線 (404)\n",
      "⚠️ NHYDY: 無法抓取統計資料 (404)\n",
      "⚠️ Norsk Hydro 無資料，略過\n",
      "🔍 抓取 Reliance Steel & Aluminum (RS) ...\n"
     ]
    },
    {
     "name": "stderr",
     "output_type": "stream",
     "text": [
      "C:\\Users\\user\\AppData\\Local\\Temp\\ipykernel_22916\\3975123913.py:40: FutureWarning: Passing literal html to 'read_html' is deprecated and will be removed in a future version. To read from a literal string, wrap it in a 'StringIO' object.\n",
      "  tables = pd.read_html(str(soup))\n",
      "C:\\Users\\user\\AppData\\Local\\Temp\\ipykernel_22916\\3975123913.py:53: SettingWithCopyWarning: \n",
      "A value is trying to be set on a copy of a slice from a DataFrame.\n",
      "Try using .loc[row_indexer,col_indexer] = value instead\n",
      "\n",
      "See the caveats in the documentation: https://pandas.pydata.org/pandas-docs/stable/user_guide/indexing.html#returning-a-view-versus-a-copy\n",
      "  df[\"Metric\"] = df[\"Metric\"].apply(\n",
      "C:\\Users\\user\\AppData\\Local\\Temp\\ipykernel_22916\\3975123913.py:75: FutureWarning: Passing literal html to 'read_html' is deprecated and will be removed in a future version. To read from a literal string, wrap it in a 'StringIO' object.\n",
      "  tables = pd.read_html(r.text)\n"
     ]
    },
    {
     "name": "stdout",
     "output_type": "stream",
     "text": [
      "✅ Reliance Steel & Aluminum 完成\n",
      "🔍 抓取 Kaiser Aluminum (KALU) ...\n"
     ]
    },
    {
     "name": "stderr",
     "output_type": "stream",
     "text": [
      "C:\\Users\\user\\AppData\\Local\\Temp\\ipykernel_22916\\3975123913.py:40: FutureWarning: Passing literal html to 'read_html' is deprecated and will be removed in a future version. To read from a literal string, wrap it in a 'StringIO' object.\n",
      "  tables = pd.read_html(str(soup))\n",
      "C:\\Users\\user\\AppData\\Local\\Temp\\ipykernel_22916\\3975123913.py:53: SettingWithCopyWarning: \n",
      "A value is trying to be set on a copy of a slice from a DataFrame.\n",
      "Try using .loc[row_indexer,col_indexer] = value instead\n",
      "\n",
      "See the caveats in the documentation: https://pandas.pydata.org/pandas-docs/stable/user_guide/indexing.html#returning-a-view-versus-a-copy\n",
      "  df[\"Metric\"] = df[\"Metric\"].apply(\n",
      "C:\\Users\\user\\AppData\\Local\\Temp\\ipykernel_22916\\3975123913.py:75: FutureWarning: Passing literal html to 'read_html' is deprecated and will be removed in a future version. To read from a literal string, wrap it in a 'StringIO' object.\n",
      "  tables = pd.read_html(r.text)\n"
     ]
    },
    {
     "name": "stdout",
     "output_type": "stream",
     "text": [
      "✅ Kaiser Aluminum 完成\n",
      "🔍 抓取 Ryerson Holding (RYI) ...\n"
     ]
    },
    {
     "name": "stderr",
     "output_type": "stream",
     "text": [
      "C:\\Users\\user\\AppData\\Local\\Temp\\ipykernel_22916\\3975123913.py:40: FutureWarning: Passing literal html to 'read_html' is deprecated and will be removed in a future version. To read from a literal string, wrap it in a 'StringIO' object.\n",
      "  tables = pd.read_html(str(soup))\n",
      "C:\\Users\\user\\AppData\\Local\\Temp\\ipykernel_22916\\3975123913.py:53: SettingWithCopyWarning: \n",
      "A value is trying to be set on a copy of a slice from a DataFrame.\n",
      "Try using .loc[row_indexer,col_indexer] = value instead\n",
      "\n",
      "See the caveats in the documentation: https://pandas.pydata.org/pandas-docs/stable/user_guide/indexing.html#returning-a-view-versus-a-copy\n",
      "  df[\"Metric\"] = df[\"Metric\"].apply(\n"
     ]
    },
    {
     "name": "stdout",
     "output_type": "stream",
     "text": [
      "✅ Ryerson Holding 完成\n",
      "✅ 已輸出 Stock_Risk_Scores.xlsx\n"
     ]
    },
    {
     "name": "stderr",
     "output_type": "stream",
     "text": [
      "C:\\Users\\user\\AppData\\Local\\Temp\\ipykernel_22916\\3975123913.py:75: FutureWarning: Passing literal html to 'read_html' is deprecated and will be removed in a future version. To read from a literal string, wrap it in a 'StringIO' object.\n",
      "  tables = pd.read_html(r.text)\n"
     ]
    }
   ],
   "source": [
    "import pandas as pd\n",
    "import requests, re\n",
    "from openpyxl import Workbook\n",
    "from bs4 import BeautifulSoup\n",
    "\n",
    "# -------------------------------------------------------\n",
    "# 追蹤的公司（用 StockAnalysis 上的股票代碼）\n",
    "# -------------------------------------------------------\n",
    "TICKERS = {\n",
    "    \"AA\": \"Alcoa\",\n",
    "    \"RIO\": \"Rio Tinto\",\n",
    "    \"NHYDY\": \"Norsk Hydro\",\n",
    "    \"RS\": \"Reliance Steel & Aluminum\",\n",
    "    \"KALU\": \"Kaiser Aluminum\",\n",
    "    \"RYI\": \"Ryerson Holding\"\n",
    "}\n",
    "\n",
    "# 想抓的比率\n",
    "TARGET = {\n",
    "    \"Current Ratio\": \"Current Ratio\",\n",
    "    \"Debt\": \"Debt / Equity Ratio\",\n",
    "    \"EBITDA\": \"EBITDA\",\n",
    "    \"Free Cash Flow\": \"Free Cash Flow (Millions)\",\n",
    "    \"Inventory Turnover\": \"Inventory Turnover\",\n",
    "    \"Net Income\": \"Net Income (Millions)\"\n",
    "}\n",
    "\n",
    "# -------------------------------------------------------\n",
    "# 抓取財務比率頁面（非 API）\n",
    "# -------------------------------------------------------\n",
    "def fetch_ratios(symbol):\n",
    "    url = f\"https://stockanalysis.com/stocks/{symbol.lower()}/financials/ratios/\"\n",
    "    headers = {\"User-Agent\": \"Mozilla/5.0\"}\n",
    "    r = requests.get(url, headers=headers)\n",
    "    if r.status_code != 200:\n",
    "        print(f\"⚠️ {symbol}: 無法連線 ({r.status_code})\")\n",
    "        return None\n",
    "\n",
    "    soup = BeautifulSoup(r.text, \"html.parser\")\n",
    "    tables = pd.read_html(str(soup))\n",
    "    if not tables:\n",
    "        print(f\"⚠️ {symbol}: 找不到表格\")\n",
    "        return None\n",
    "\n",
    "    df = tables[0]\n",
    "    if isinstance(df.columns, pd.MultiIndex):\n",
    "        df.columns = [\n",
    "            \" \".join([str(c) for c in col if c and c != \"nan\"]).strip()\n",
    "            for col in df.columns\n",
    "        ]\n",
    "    df.rename(columns={df.columns[0]: \"Metric\"}, inplace=True)\n",
    "    df = df[df[\"Metric\"].str.contains(\"|\".join(TARGET.keys()), case=False, na=False)]\n",
    "    df[\"Metric\"] = df[\"Metric\"].apply(\n",
    "        lambda x: next((v for k, v in TARGET.items() if k.lower() in x.lower()), x)\n",
    "    )\n",
    "\n",
    "    # 清理與轉置\n",
    "    df = df.replace([\"Upgrade\", \"-\", \"—\"], pd.NA)\n",
    "    df = df.set_index(\"Metric\").T.reset_index().rename(columns={\"index\": \"Date_1\"})\n",
    "    df[\"Date_1\"] = df[\"Date_1\"].apply(lambda x: re.sub(r\"[\\(\\)'\\\"]+\", \"\", str(x)).strip())\n",
    "    df[\"Ticker\"] = symbol\n",
    "    return df.fillna(\"\")\n",
    "\n",
    "# -------------------------------------------------------\n",
    "# 抓取 Z-Score / F-Score\n",
    "# -------------------------------------------------------\n",
    "def fetch_scores(symbol):\n",
    "    url = f\"https://stockanalysis.com/stocks/{symbol.lower()}/statistics/\"\n",
    "    headers = {\"User-Agent\": \"Mozilla/5.0\"}\n",
    "    r = requests.get(url, headers=headers)\n",
    "    if r.status_code != 200:\n",
    "        print(f\"⚠️ {symbol}: 無法抓取統計資料 ({r.status_code})\")\n",
    "        return {\"Altman Z-Score\": \"\", \"Piotroski F-Score\": \"\"}\n",
    "    try:\n",
    "        tables = pd.read_html(r.text)\n",
    "    except Exception:\n",
    "        return {\"Altman Z-Score\": \"\", \"Piotroski F-Score\": \"\"}\n",
    "    if not tables:\n",
    "        return {\"Altman Z-Score\": \"\", \"Piotroski F-Score\": \"\"}\n",
    "    df = pd.concat(tables, ignore_index=True)\n",
    "    df.columns = [\"Metric\", \"Value\"]\n",
    "    z = df[df[\"Metric\"].str.contains(\"Altman Z\", na=False)][\"Value\"].values\n",
    "    f = df[df[\"Metric\"].str.contains(\"Piotroski F\", na=False)][\"Value\"].values\n",
    "    return {\n",
    "        \"Altman Z-Score\": z[0] if len(z) else \"\",\n",
    "        \"Piotroski F-Score\": f[0] if len(f) else \"\"\n",
    "    }\n",
    "\n",
    "# -------------------------------------------------------\n",
    "# 寫入 Excel（每家公司一個工作表）\n",
    "# -------------------------------------------------------\n",
    "wb = Workbook()\n",
    "wb.remove(wb.active)\n",
    "\n",
    "for t, name in TICKERS.items():\n",
    "    print(f\"🔍 抓取 {name} ({t}) ...\")\n",
    "    try:\n",
    "        ratios = fetch_ratios(t)\n",
    "        scores = fetch_scores(t)\n",
    "    except Exception as e:\n",
    "        print(f\"⚠️ {name} 抓取失敗: {e}\")\n",
    "        continue\n",
    "\n",
    "    if ratios is None:\n",
    "        print(f\"⚠️ {name} 無資料，略過\")\n",
    "        continue\n",
    "\n",
    "    # 寫入資料\n",
    "    sheet = wb.create_sheet(title=name[:30])\n",
    "    sheet.append([\"Altman Z-Score\", scores[\"Altman Z-Score\"]])\n",
    "    sheet.append([\"Piotroski F-Score\", scores[\"Piotroski F-Score\"]])\n",
    "    sheet.append([])\n",
    "\n",
    "    clean_df = pd.DataFrame(ratios).fillna(\"\")\n",
    "    sheet.append(clean_df.columns.tolist())\n",
    "    for row in clean_df.itertuples(index=False):\n",
    "        sheet.append(row)\n",
    "\n",
    "    print(f\"✅ {name} 完成\")\n",
    "\n",
    "wb.save(\"Stock_Risk_Scores.xlsx\")\n",
    "print(\"✅ 已輸出 Stock_Risk_Scores.xlsx\")\n"
   ]
  },
  {
   "cell_type": "code",
   "execution_count": null,
   "id": "c697da17-c393-4bed-b2b0-fdf84a4da7e3",
   "metadata": {},
   "outputs": [],
   "source": []
  },
  {
   "cell_type": "code",
   "execution_count": null,
   "id": "719eaf78-86d6-4250-a0e7-f7be33dd46f1",
   "metadata": {},
   "outputs": [],
   "source": []
  },
  {
   "cell_type": "code",
   "execution_count": null,
   "id": "2aa60677-1726-41b2-9ecc-7a499e3d159f",
   "metadata": {},
   "outputs": [],
   "source": []
  },
  {
   "cell_type": "code",
   "execution_count": null,
   "id": "4c2d07a0-2111-4bef-92bc-2fda36eaad7b",
   "metadata": {},
   "outputs": [],
   "source": []
  },
  {
   "cell_type": "code",
   "execution_count": 8,
   "id": "2341430a-b61c-42b0-85b2-93f29f6e13b6",
   "metadata": {},
   "outputs": [
    {
     "name": "stdout",
     "output_type": "stream",
     "text": [
      "🔍 抓取 AA (Quarterly) ...\n"
     ]
    },
    {
     "name": "stderr",
     "output_type": "stream",
     "text": [
      "C:\\Users\\user\\AppData\\Local\\Temp\\ipykernel_22916\\2055504205.py:22: FutureWarning: Passing literal html to 'read_html' is deprecated and will be removed in a future version. To read from a literal string, wrap it in a 'StringIO' object.\n",
      "  tables = pd.read_html(html, header=0)\n",
      "C:\\Users\\user\\AppData\\Local\\Temp\\ipykernel_22916\\2055504205.py:33: SettingWithCopyWarning: \n",
      "A value is trying to be set on a copy of a slice from a DataFrame.\n",
      "Try using .loc[row_indexer,col_indexer] = value instead\n",
      "\n",
      "See the caveats in the documentation: https://pandas.pydata.org/pandas-docs/stable/user_guide/indexing.html#returning-a-view-versus-a-copy\n",
      "  df[\"Metric\"] = df[\"Metric\"].apply(lambda x: next((v for k, v in TARGET.items() if k.lower() in x.lower()), x))\n",
      "C:\\Users\\user\\AppData\\Local\\Temp\\ipykernel_22916\\2055504205.py:46: FutureWarning: Passing literal html to 'read_html' is deprecated and will be removed in a future version. To read from a literal string, wrap it in a 'StringIO' object.\n",
      "  df = pd.concat(pd.read_html(html), ignore_index=True)\n"
     ]
    },
    {
     "name": "stdout",
     "output_type": "stream",
     "text": [
      "✅ AA 完成，共 7 期\n",
      "🔍 抓取 RIO (Quarterly) ...\n"
     ]
    },
    {
     "name": "stderr",
     "output_type": "stream",
     "text": [
      "C:\\Users\\user\\AppData\\Local\\Temp\\ipykernel_22916\\2055504205.py:22: FutureWarning: Passing literal html to 'read_html' is deprecated and will be removed in a future version. To read from a literal string, wrap it in a 'StringIO' object.\n",
      "  tables = pd.read_html(html, header=0)\n",
      "C:\\Users\\user\\AppData\\Local\\Temp\\ipykernel_22916\\2055504205.py:33: SettingWithCopyWarning: \n",
      "A value is trying to be set on a copy of a slice from a DataFrame.\n",
      "Try using .loc[row_indexer,col_indexer] = value instead\n",
      "\n",
      "See the caveats in the documentation: https://pandas.pydata.org/pandas-docs/stable/user_guide/indexing.html#returning-a-view-versus-a-copy\n",
      "  df[\"Metric\"] = df[\"Metric\"].apply(lambda x: next((v for k, v in TARGET.items() if k.lower() in x.lower()), x))\n",
      "C:\\Users\\user\\AppData\\Local\\Temp\\ipykernel_22916\\2055504205.py:46: FutureWarning: Passing literal html to 'read_html' is deprecated and will be removed in a future version. To read from a literal string, wrap it in a 'StringIO' object.\n",
      "  df = pd.concat(pd.read_html(html), ignore_index=True)\n"
     ]
    },
    {
     "name": "stdout",
     "output_type": "stream",
     "text": [
      "✅ RIO 完成，共 7 期\n",
      "🔍 抓取 NUE (Quarterly) ...\n"
     ]
    },
    {
     "name": "stderr",
     "output_type": "stream",
     "text": [
      "C:\\Users\\user\\AppData\\Local\\Temp\\ipykernel_22916\\2055504205.py:22: FutureWarning: Passing literal html to 'read_html' is deprecated and will be removed in a future version. To read from a literal string, wrap it in a 'StringIO' object.\n",
      "  tables = pd.read_html(html, header=0)\n",
      "C:\\Users\\user\\AppData\\Local\\Temp\\ipykernel_22916\\2055504205.py:33: SettingWithCopyWarning: \n",
      "A value is trying to be set on a copy of a slice from a DataFrame.\n",
      "Try using .loc[row_indexer,col_indexer] = value instead\n",
      "\n",
      "See the caveats in the documentation: https://pandas.pydata.org/pandas-docs/stable/user_guide/indexing.html#returning-a-view-versus-a-copy\n",
      "  df[\"Metric\"] = df[\"Metric\"].apply(lambda x: next((v for k, v in TARGET.items() if k.lower() in x.lower()), x))\n"
     ]
    },
    {
     "name": "stdout",
     "output_type": "stream",
     "text": [
      "✅ NUE 完成，共 7 期\n",
      "✅ 已輸出 stock_data_quarterly.xlsx (每個公司一個工作表)\n"
     ]
    },
    {
     "name": "stderr",
     "output_type": "stream",
     "text": [
      "C:\\Users\\user\\AppData\\Local\\Temp\\ipykernel_22916\\2055504205.py:46: FutureWarning: Passing literal html to 'read_html' is deprecated and will be removed in a future version. To read from a literal string, wrap it in a 'StringIO' object.\n",
      "  df = pd.concat(pd.read_html(html), ignore_index=True)\n"
     ]
    }
   ],
   "source": [
    "import pandas as pd\n",
    "import requests, re\n",
    "from datetime import date\n",
    "\n",
    "# 想追蹤的公司\n",
    "TICKERS = [\"AA\", \"RIO\", \"NUE\"]\n",
    "\n",
    "# 想抓的比率\n",
    "TARGET = {\n",
    "    \"Current Ratio\": \"Current Ratio\",\n",
    "    \"Debt\": \"Debt / Equity Ratio\",\n",
    "    \"EBITDA\": \"EBITDA\",\n",
    "    \"Free Cash Flow\": \"Free Cash Flow (Millions)\",\n",
    "    \"Inventory Turnover\": \"Inventory Turnover\",\n",
    "    \"Net Income\": \"Net Income (Millions)\"\n",
    "}\n",
    "\n",
    "# 抓季度財務比率\n",
    "def fetch_quarterly_ratios(symbol):\n",
    "    url = f\"https://stockanalysis.com/stocks/{symbol.lower()}/financials/ratios/quarterly/\"\n",
    "    html = requests.get(url, headers={\"User-Agent\": \"Mozilla/5.0\"}).text\n",
    "    tables = pd.read_html(html, header=0)\n",
    "    if not tables:\n",
    "        return None\n",
    "    df = tables[0]\n",
    "\n",
    "    # 若是多層欄位先壓平\n",
    "    if isinstance(df.columns, pd.MultiIndex):\n",
    "        df.columns = [' '.join([str(c) for c in col if c and c != 'nan']).strip() for col in df.columns]\n",
    "\n",
    "    df.rename(columns={df.columns[0]: \"Metric\"}, inplace=True)\n",
    "    df = df[df[\"Metric\"].str.contains(\"|\".join(TARGET.keys()), case=False, na=False)]\n",
    "    df[\"Metric\"] = df[\"Metric\"].apply(lambda x: next((v for k, v in TARGET.items() if k.lower() in x.lower()), x))\n",
    "    df = df.replace([\"Upgrade\", \"-\", \"—\"], pd.NA)\n",
    "\n",
    "    # 轉置\n",
    "    df = df.set_index(\"Metric\").T.reset_index().rename(columns={\"index\": \"Date_1\"})\n",
    "    df[\"Date_1\"] = df[\"Date_1\"].apply(lambda x: re.sub(r\"[\\(\\)'\\\"]+\", \"\", str(x)).split(\",\")[-1].strip())\n",
    "    df[\"Ticker\"] = symbol\n",
    "    return df\n",
    "\n",
    "# 抓 Z/F Score\n",
    "def fetch_scores(symbol):\n",
    "    url = f\"https://stockanalysis.com/stocks/{symbol.lower()}/statistics/\"\n",
    "    html = requests.get(url, headers={\"User-Agent\": \"Mozilla/5.0\"}).text\n",
    "    df = pd.concat(pd.read_html(html), ignore_index=True)\n",
    "    df.columns = [\"Metric\", \"Value\"]\n",
    "    z = df[df[\"Metric\"].str.contains(\"Altman Z\", na=False)][\"Value\"].values\n",
    "    f = df[df[\"Metric\"].str.contains(\"Piotroski F\", na=False)][\"Value\"].values\n",
    "    return {\n",
    "        \"Altman Z-Score 的平均\": z[0] if len(z) else None,\n",
    "        \"Piotroski F-Score 的平均\": f[0] if len(f) else None\n",
    "    }\n",
    "\n",
    "# 主程式\n",
    "writer = pd.ExcelWriter(\"stock_data_quarterly.xlsx\", engine=\"openpyxl\")\n",
    "\n",
    "for t in TICKERS:\n",
    "    print(f\"🔍 抓取 {t} (Quarterly) ...\")\n",
    "    ratios = fetch_quarterly_ratios(t)\n",
    "    scores = fetch_scores(t)\n",
    "    if ratios is not None:\n",
    "        # 讓 Z/F 分數只顯示一次\n",
    "        z_score = scores.get(\"Altman Z-Score 的平均\")\n",
    "        f_score = scores.get(\"Piotroski F-Score 的平均\")\n",
    "\n",
    "        # 建立一行的 summary DataFrame\n",
    "        summary = pd.DataFrame({\n",
    "            \"Altman Z-Score 的平均\": [z_score],\n",
    "            \"Piotroski F-Score 的平均\": [f_score]\n",
    "        })\n",
    "\n",
    "        # 將 summary 寫在最上方，財務資料寫在下面\n",
    "        summary.to_excel(writer, sheet_name=t, index=False, startrow=0)\n",
    "        ratios.to_excel(writer, sheet_name=t, index=False, startrow=3)\n",
    "        print(f\"✅ {t} 完成，共 {len(ratios)} 期\")\n",
    "    else:\n",
    "        print(f\"⚠️ {t} 抓取失敗\")\n",
    "\n",
    "writer.close()\n",
    "print(\"✅ 已輸出 stock_data_quarterly.xlsx (每個公司一個工作表)\")\n"
   ]
  },
  {
   "cell_type": "code",
   "execution_count": null,
   "id": "0248f5e1-b49b-4380-8247-a357ae4fbbb2",
   "metadata": {},
   "outputs": [],
   "source": []
  },
  {
   "cell_type": "code",
   "execution_count": null,
   "id": "30e40900-94e9-4cbd-a9a8-5e89164dd140",
   "metadata": {},
   "outputs": [],
   "source": []
  },
  {
   "cell_type": "code",
   "execution_count": null,
   "id": "0d312b74-6b10-4dfc-b41c-2ba370f97721",
   "metadata": {},
   "outputs": [],
   "source": []
  },
  {
   "cell_type": "code",
   "execution_count": null,
   "id": "2483c2e2-5dfd-4eb8-a14f-6f5482321ac7",
   "metadata": {},
   "outputs": [],
   "source": []
  },
  {
   "cell_type": "code",
   "execution_count": null,
   "id": "fd06362c-5816-4519-9c45-7fe5104fbcfa",
   "metadata": {},
   "outputs": [],
   "source": []
  },
  {
   "cell_type": "code",
   "execution_count": null,
   "id": "bffc5a06-79f2-4979-9da5-62af3085a1da",
   "metadata": {},
   "outputs": [],
   "source": []
  },
  {
   "cell_type": "code",
   "execution_count": null,
   "id": "481c4a6f-38cd-42bc-99ff-bf4cbb65b531",
   "metadata": {},
   "outputs": [],
   "source": []
  },
  {
   "cell_type": "code",
   "execution_count": null,
   "id": "3b41ab2b-b175-4bcb-ab43-245122c0fc5f",
   "metadata": {},
   "outputs": [],
   "source": []
  }
 ],
 "metadata": {
  "kernelspec": {
   "display_name": "Python 3 (ipykernel)",
   "language": "python",
   "name": "python3"
  },
  "language_info": {
   "codemirror_mode": {
    "name": "ipython",
    "version": 3
   },
   "file_extension": ".py",
   "mimetype": "text/x-python",
   "name": "python",
   "nbconvert_exporter": "python",
   "pygments_lexer": "ipython3",
   "version": "3.11.7"
  }
 },
 "nbformat": 4,
 "nbformat_minor": 5
}
